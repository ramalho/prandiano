{
 "cells": [
  {
   "cell_type": "markdown",
   "metadata": {},
   "source": [
    "# Número e\n",
    "\n",
    "\\begin{align}\n",
    "e =  \\sum\\limits_{n = 0}^{ \\infty} \\dfrac{1}{n!} = \\frac{1}{1} + \\frac{1}{1} + \\frac{1}{1\\cdot 2} + \\frac{1}{1\\cdot 2\\cdot 3} + \\cdots\n",
    "\\end{align}"
   ]
  },
  {
   "cell_type": "code",
   "execution_count": 1,
   "metadata": {},
   "outputs": [
    {
     "data": {
      "text/plain": [
       "2.718281828459045"
      ]
     },
     "execution_count": 1,
     "metadata": {},
     "output_type": "execute_result"
    }
   ],
   "source": [
    "from math import e, isclose\n",
    "e"
   ]
  },
  {
   "cell_type": "code",
   "execution_count": 2,
   "metadata": {},
   "outputs": [],
   "source": [
    "def gen_e():\n",
    "    denom = 1\n",
    "    mult = 1\n",
    "    total = 1\n",
    "    while not isclose(total, e):\n",
    "        yield total\n",
    "        prev = total\n",
    "        total += 1 / denom\n",
    "        mult += 1\n",
    "        denom *= mult"
   ]
  },
  {
   "cell_type": "code",
   "execution_count": 3,
   "metadata": {},
   "outputs": [
    {
     "name": "stdout",
     "output_type": "stream",
     "text": [
      "1\n",
      "2.0\n",
      "2.5\n",
      "2.6666666666666665\n",
      "2.708333333333333\n",
      "2.7166666666666663\n",
      "2.7180555555555554\n",
      "2.7182539682539684\n",
      "2.71827876984127\n",
      "2.7182815255731922\n",
      "2.7182818011463845\n"
     ]
    }
   ],
   "source": [
    "for x in gen_e():\n",
    "    print(x)"
   ]
  },
  {
   "cell_type": "code",
   "execution_count": 4,
   "metadata": {},
   "outputs": [
    {
     "data": {
      "text/plain": [
       "[<matplotlib.lines.Line2D at 0x7f316bfd9710>]"
      ]
     },
     "execution_count": 4,
     "metadata": {},
     "output_type": "execute_result"
    },
    {
     "data": {
      "image/png": "[encoded data removed]",
      "text/plain": [
       "<matplotlib.figure.Figure at 0x7f318db72908>"
      ]
     },
     "metadata": {},
     "output_type": "display_data"
    }
   ],
   "source": [
    "%matplotlib inline\n",
    "\n",
    "values = list(gen_e())[2:]\n",
    "\n",
    "import matplotlib.pyplot as plt\n",
    "\n",
    "plt.figure()\n",
    "plt.axhline(values[-1], color='r', linestyle=':')\n",
    "plt.plot(values)\n"
   ]
  },
  {
   "cell_type": "code",
   "execution_count": null,
   "metadata": {},
   "outputs": [],
   "source": []
  }
 ],
 "metadata": {
  "kernelspec": {
   "display_name": "Python 3",
   "language": "python",
   "name": "python3"
  },
  "language_info": {
   "codemirror_mode": {
    "name": "ipython",
    "version": 3
   },
   "file_extension": ".py",
   "mimetype": "text/x-python",
   "name": "python",
   "nbconvert_exporter": "python",
   "pygments_lexer": "ipython3",
   "version": "3.6.6"
  }
 },
 "nbformat": 4,
 "nbformat_minor": 2
}
