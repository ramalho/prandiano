{
 "cells": [
  {
   "cell_type": "markdown",
   "metadata": {},
   "source": [
    "# Galinheiro\n",
    "\n",
    "Problema apresentado na palestra do curso Matemática para a Vida do Prof. Ricieri no Museu da Matemática. A solução analítica ainda não foi apresentada. Aqui vai uma solução numérica.\n",
    "\n",
    "Usando 80m de cerca, quais as dimensões do maior galinheiro retangular que pode ser construído, aproveitando a existência de um muro de 100m que vai fechar um dos lados do retângulo. \n",
    "\n",
    "Os demais lados do galinheiro portanto devem ter dimensões `a, b`, onde `a + b*2 = 80`."
   ]
  },
  {
   "cell_type": "code",
   "execution_count": 1,
   "metadata": {},
   "outputs": [
    {
     "data": {
      "text/plain": [
       "[(2, 39),\n",
       " (4, 38),\n",
       " (6, 37),\n",
       " (8, 36),\n",
       " (10, 35),\n",
       " (12, 34),\n",
       " (14, 33),\n",
       " (16, 32),\n",
       " (18, 31),\n",
       " (20, 30),\n",
       " (22, 29),\n",
       " (24, 28),\n",
       " (26, 27),\n",
       " (28, 26),\n",
       " (30, 25),\n",
       " (32, 24),\n",
       " (34, 23),\n",
       " (36, 22),\n",
       " (38, 21),\n",
       " (40, 20),\n",
       " (42, 19),\n",
       " (44, 18),\n",
       " (46, 17),\n",
       " (48, 16),\n",
       " (50, 15),\n",
       " (52, 14),\n",
       " (54, 13),\n",
       " (56, 12),\n",
       " (58, 11),\n",
       " (60, 10),\n",
       " (62, 9),\n",
       " (64, 8),\n",
       " (66, 7),\n",
       " (68, 6),\n",
       " (70, 5),\n",
       " (72, 4),\n",
       " (74, 3),\n",
       " (76, 2),\n",
       " (78, 1)]"
      ]
     },
     "execution_count": 1,
     "metadata": {},
     "output_type": "execute_result"
    }
   ],
   "source": [
    "lados = [(f, (80 - f) // 2) for f in range(2, 80, 2)]\n",
    "lados"
   ]
  },
  {
   "cell_type": "code",
   "execution_count": 2,
   "metadata": {},
   "outputs": [
    {
     "data": {
      "text/plain": [
       "[(800, (40, 20)),\n",
       " (798, (42, 19)),\n",
       " (798, (38, 21)),\n",
       " (792, (44, 18)),\n",
       " (792, (36, 22)),\n",
       " (782, (46, 17)),\n",
       " (782, (34, 23)),\n",
       " (768, (48, 16)),\n",
       " (768, (32, 24)),\n",
       " (750, (50, 15)),\n",
       " (750, (30, 25)),\n",
       " (728, (52, 14)),\n",
       " (728, (28, 26)),\n",
       " (702, (54, 13)),\n",
       " (702, (26, 27)),\n",
       " (672, (56, 12)),\n",
       " (672, (24, 28)),\n",
       " (638, (58, 11)),\n",
       " (638, (22, 29)),\n",
       " (600, (60, 10)),\n",
       " (600, (20, 30)),\n",
       " (558, (62, 9)),\n",
       " (558, (18, 31)),\n",
       " (512, (64, 8)),\n",
       " (512, (16, 32)),\n",
       " (462, (66, 7)),\n",
       " (462, (14, 33)),\n",
       " (408, (68, 6)),\n",
       " (408, (12, 34)),\n",
       " (350, (70, 5)),\n",
       " (350, (10, 35)),\n",
       " (288, (72, 4)),\n",
       " (288, (8, 36)),\n",
       " (222, (74, 3)),\n",
       " (222, (6, 37)),\n",
       " (152, (76, 2)),\n",
       " (152, (4, 38)),\n",
       " (78, (78, 1)),\n",
       " (78, (2, 39))]"
      ]
     },
     "execution_count": 2,
     "metadata": {},
     "output_type": "execute_result"
    }
   ],
   "source": [
    "sorted(((x * y, (x, y)) for x, y in lados), reverse=True)"
   ]
  },
  {
   "cell_type": "code",
   "execution_count": 3,
   "metadata": {},
   "outputs": [
    {
     "data": {
      "text/plain": [
       "(800, (40, 20))"
      ]
     },
     "execution_count": 3,
     "metadata": {},
     "output_type": "execute_result"
    }
   ],
   "source": [
    "area, (a, b) = sorted(((x * y, (x, y)) for x, y in lados), reverse=True)[0]\n",
    "area, (a, b)"
   ]
  },
  {
   "cell_type": "markdown",
   "metadata": {},
   "source": [
    "Solução que imaginei: galinheiro semi-circular."
   ]
  },
  {
   "cell_type": "code",
   "execution_count": 4,
   "metadata": {},
   "outputs": [
    {
     "data": {
      "text/plain": [
       "25.464790894703256"
      ]
     },
     "execution_count": 4,
     "metadata": {},
     "output_type": "execute_result"
    }
   ],
   "source": [
    "import math\n",
    "r = 80 / math.pi\n",
    "r"
   ]
  },
  {
   "cell_type": "code",
   "execution_count": 5,
   "metadata": {},
   "outputs": [
    {
     "data": {
      "text/plain": [
       "1018.5916357881302"
      ]
     },
     "execution_count": 5,
     "metadata": {},
     "output_type": "execute_result"
    }
   ],
   "source": [
    "area = math.pi * r * r / 2\n",
    "area"
   ]
  },
  {
   "cell_type": "code",
   "execution_count": 6,
   "metadata": {},
   "outputs": [
    {
     "data": {
      "image/png": "[encoded data removed]",
      "text/plain": [
       "<matplotlib.figure.Figure at 0x7f512846f4e0>"
      ]
     },
     "metadata": {},
     "output_type": "display_data"
    }
   ],
   "source": [
    "%matplotlib inline\n",
    "from matplotlib import pyplot as plt\n",
    "from matplotlib.patches import Rectangle, Arc\n",
    "plt.figure()\n",
    "plt.axis('equal')\n",
    "plt.axis([0, 40, 0, 40])\n",
    "axis = plt.gca()\n",
    "axis.add_patch(Rectangle((0, 0), 40, 20))\n",
    "axis.add_patch(Arc((20, 0), r*2, r*2))\n",
    "plt.show()"
   ]
  },
  {
   "cell_type": "code",
   "execution_count": null,
   "metadata": {},
   "outputs": [],
   "source": []
  }
 ],
 "metadata": {
  "kernelspec": {
   "display_name": "Python 3",
   "language": "python",
   "name": "python3"
  },
  "language_info": {
   "codemirror_mode": {
    "name": "ipython",
    "version": 3
   },
   "file_extension": ".py",
   "mimetype": "text/x-python",
   "name": "python",
   "nbconvert_exporter": "python",
   "pygments_lexer": "ipython3",
   "version": "3.6.6"
  }
 },
 "nbformat": 4,
 "nbformat_minor": 2
}
